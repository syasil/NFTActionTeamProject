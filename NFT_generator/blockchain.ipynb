{
 "cells": [
  {
   "cell_type": "code",
   "execution_count": 58,
   "metadata": {},
   "outputs": [],
   "source": [
    "import datetime\n",
    "import hashlib\n",
    "import json\n"
   ]
  },
  {
   "cell_type": "code",
   "execution_count": 59,
   "metadata": {},
   "outputs": [],
   "source": [
    "class BlockChain:\n",
    "\n",
    "    def __init__(self):\n",
    "        self.chain = []\n",
    "        self.create_block(proof = 1, previous_hash = '0') # genesis block\n",
    "\n",
    "    def create_block(self, proof, previous_hash): \n",
    "        block = {\n",
    "            'token Id' : len(self.chain) + 1, # number of block\n",
    "            'artist name' : 'null',\n",
    "            'picture name' : 'null',\n",
    "            'wallet address' : 'null', #지갑 주소 (구매자 정보)\n",
    "            'picture information' : 'Minted on {}. This work is unique.'.format(str(datetime.datetime.now())),\n",
    "            'proof' : proof,    \n",
    "            'previous_hash' : previous_hash \n",
    "        }\n",
    "        self.chain.append(block) \n",
    "        return block\n",
    "\n",
    "    def get_previous_block(self): # retrun previos_block\n",
    "        return self.chain[-1]\n",
    "\n",
    "    def proof_of_work(self, previous_proof): # 작업 증명\n",
    "        new_proof = 1\n",
    "        check_proof = False\n",
    "\n",
    "        while check_proof is False: #work; 256길이의 hash가 '0000'을 포함할 때까지 반복 \n",
    "            hash_operation = hashlib.sha256(str(new_proof**2 - previous_proof**2).encode()).hexdigest()\n",
    "            \n",
    "            if hash_operation.startswith('0000'): #proof\n",
    "                check_proof = True\n",
    "            else:\n",
    "                new_proof +=1\n",
    "\n",
    "        return new_proof #return work count\n",
    "\n",
    "    def hash(self, block): # 블럭을 받아서 json형태로 dump하고, 인코딩하여 해시값을 얻은 후 반환\n",
    "        encoded_block = json.dumps(block, sort_keys = True).encode()\n",
    "        return hashlib.sha256(encoded_block).hexdigest()\n"
   ]
  },
  {
   "cell_type": "code",
   "execution_count": 60,
   "metadata": {},
   "outputs": [
    {
     "name": "stdout",
     "output_type": "stream",
     "text": [
      " * Serving Flask app '__main__' (lazy loading)\n",
      " * Environment: production\n",
      "\u001b[31m   WARNING: This is a development server. Do not use it in a production deployment.\u001b[0m\n",
      "\u001b[2m   Use a production WSGI server instead.\u001b[0m\n",
      " * Debug mode: off\n"
     ]
    },
    {
     "name": "stderr",
     "output_type": "stream",
     "text": [
      " * Running on all addresses.\n",
      "   WARNING: This is a development server. Do not use it in a production deployment.\n",
      " * Running on http://192.168.1.139:6002/ (Press CTRL+C to quit)\n",
      "192.168.1.139 - - [27/Jun/2022 22:10:18] \"GET /mine_block HTTP/1.1\" 200 -\n",
      "192.168.1.139 - - [27/Jun/2022 22:10:18] \"GET /mine_block HTTP/1.1\" 200 -\n",
      "192.168.1.139 - - [27/Jun/2022 22:10:20] \"GET /get_chain HTTP/1.1\" 200 -\n",
      "192.168.1.139 - - [27/Jun/2022 22:10:20] \"GET /get_chain HTTP/1.1\" 200 -\n"
     ]
    }
   ],
   "source": [
    "from flask import Flask, jsonify\n",
    "\n",
    "app = Flask(__name__)\n",
    "app.config['JSONIFY_PRETTYPRITNT_REGULAR'] = False\n",
    "blockchain = BlockChain()\n",
    "\n",
    "\n",
    "@app.route('/mine_block', methods = ['GET'])\n",
    "def mine_block():\n",
    "    previous_block = blockchain.get_previous_block()\n",
    "    previous_proof = previous_block['proof']\n",
    "    proof = blockchain.proof_of_work(previous_proof)\n",
    "    previous_hash =  blockchain.hash(previous_block)\n",
    "    block = blockchain.create_block(proof, previous_hash)\n",
    "    responses = {\n",
    "        'message' : 'Congratulations, you jst mined a block!',\n",
    "        **block\n",
    "    }\n",
    "    return jsonify(responses),200\n",
    "\n",
    "@app.route('/get_chain', methods = ['GET'])\n",
    "def get_chain():\n",
    "    reponse = {\n",
    "        'chain' : blockchain.chain\n",
    "    }\n",
    "    return jsonify(reponse), 200\n",
    "\n",
    "app.run(host = '0.0.0.0', port = 6002)\n",
    "\n"
   ]
  },
  {
   "cell_type": "code",
   "execution_count": null,
   "metadata": {},
   "outputs": [],
   "source": []
  }
 ],
 "metadata": {
  "kernelspec": {
   "display_name": "Python 3.9.12 ('main')",
   "language": "python",
   "name": "python3"
  },
  "language_info": {
   "codemirror_mode": {
    "name": "ipython",
    "version": 3
   },
   "file_extension": ".py",
   "mimetype": "text/x-python",
   "name": "python",
   "nbconvert_exporter": "python",
   "pygments_lexer": "ipython3",
   "version": "3.9.12"
  },
  "orig_nbformat": 4,
  "vscode": {
   "interpreter": {
    "hash": "dbfad308ee1a6c690c5a3718ebac96b63b80ef1f65c4904703bc596bbb864ce4"
   }
  }
 },
 "nbformat": 4,
 "nbformat_minor": 2
}
