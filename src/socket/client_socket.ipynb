{
 "cells": [
  {
   "cell_type": "code",
   "execution_count": 3,
   "metadata": {},
   "outputs": [],
   "source": [
    "import socket\n",
    "from _thread import *"
   ]
  },
  {
   "cell_type": "code",
   "execution_count": 4,
   "metadata": {},
   "outputs": [],
   "source": [
    "HOST = '127.0.0.1'\n",
    "POST = 9999\n",
    "\n",
    "client_socket = socket.socket(socket.AF_INET, socket.SOCK_STREAM)\n",
    "client_socket.connect((HOST, POST))\n",
    "\n",
    "def recv_data(client_socket):\n",
    "    while True:\n",
    "        data= client_socket.recv(1024)\n",
    "\n",
    "        print(\">> recive : \", repr(data.decode()))\n",
    "\n",
    "\n",
    "start_new_thread(recv_data(client_socket))\n",
    "print('>> Connect Server')\n",
    "\n",
    "while True:\n",
    "    message = input(\"\")\n",
    "    if message == 'quit':\n",
    "        close_data = message\n",
    "        break\n",
    "\n",
    "    client_socket.send(message.encode())\n",
    "\n",
    "client_socket.close()\n",
    "\n",
    "\n"
   ]
  }
 ],
 "metadata": {
  "kernelspec": {
   "display_name": "Python 3.10.4 64-bit",
   "language": "python",
   "name": "python3"
  },
  "language_info": {
   "codemirror_mode": {
    "name": "ipython",
    "version": 3
   },
   "file_extension": ".py",
   "mimetype": "text/x-python",
   "name": "python",
   "nbconvert_exporter": "python",
   "pygments_lexer": "ipython3",
   "version": "3.10.4"
  },
  "orig_nbformat": 4,
  "vscode": {
   "interpreter": {
    "hash": "fb4569285eef3a3450cb62085a5b1e0da4bce0af555edc33dcf29baf3acc1368"
   }
  }
 },
 "nbformat": 4,
 "nbformat_minor": 2
}
