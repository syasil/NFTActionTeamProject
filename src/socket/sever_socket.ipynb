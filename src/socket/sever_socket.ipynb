{
 "cells": [
  {
   "cell_type": "code",
   "execution_count": 1,
   "metadata": {},
   "outputs": [],
   "source": [
    "import socket\n",
    "from _thread import *\n"
   ]
  },
  {
   "cell_type": "code",
   "execution_count": 2,
   "metadata": {},
   "outputs": [],
   "source": [
    "client_sockets = [] #서버에 접속한 클라이언트 목록\n",
    "\n",
    "def treaded(client_socket, addr):\n",
    "    print('>> Connected by {}:{}'.format(addr[0],addr[1]))\n",
    "\n",
    "    while True:\n",
    "\n",
    "        try:\n",
    "\n",
    "            data = client_socket.recv(1024)\n",
    "\n",
    "            if not data:\n",
    "                print('>> DisConnected by {}:{}'.format(addr[0],addr[1]))\n",
    "                break\n",
    "\n",
    "            print('>> Received from {}:{}'.format(addr[0],addr[1]))\n",
    "\n",
    "            for client in client_sockets:\n",
    "                if client != client_socket:\n",
    "                    client.sent(data)\n",
    "\n",
    "        except ConnectionResetError as e:\n",
    "            print('>> DisConnected by {}:{}'.format(addr[0],addr[1]))\n",
    "            break\n",
    "    \n",
    "    if client_socket in client_sockets :\n",
    "        client_sockets.remove(client_socket)\n",
    "        print('remove client list : ',len(client_sockets))\n",
    "\n",
    "    client_socket.close()\n",
    "\n"
   ]
  },
  {
   "cell_type": "code",
   "execution_count": 3,
   "metadata": {},
   "outputs": [
    {
     "name": "stdout",
     "output_type": "stream",
     "text": [
      ">> Server Start\n"
     ]
    }
   ],
   "source": [
    "HOST = '127.0.0.1'\n",
    "POST = 9999\n",
    "\n",
    "print('>> Server Start')\n",
    "server_socket = socket.socket(socket.AF_INET, socket.SOCK_STREAM)\n",
    "server_socket.setsockopt(socket.SOL_SOCKET,socket.SO_REUSEADDR, 1)\n",
    "server_socket.bind((HOST,POST))\n",
    "server_socket.listen()\n",
    "\n",
    "#클라이언트가 접속하면 accept 함수에서 새로운 소켓을 리턴합니다.\n",
    "\n",
    "#새로운 쓰레드에서 해당 소켓을 사용하여 통신을 하게 됩니다."
   ]
  },
  {
   "cell_type": "code",
   "execution_count": 4,
   "metadata": {},
   "outputs": [
    {
     "name": "stdout",
     "output_type": "stream",
     "text": [
      ">> Wait\n"
     ]
    },
    {
     "name": "stderr",
     "output_type": "stream",
     "text": [
      "Exception ignored in thread started by: <function treaded at 0x00000172DB946320>\n",
      "Traceback (most recent call last):\n",
      "  File \"C:\\Users\\user\\AppData\\Local\\Temp\\ipykernel_4888\\1871131005.py\", line 10, in treaded\n",
      "AttributeError: 'list' object has no attribute 'recv'\n"
     ]
    },
    {
     "name": "stdout",
     "output_type": "stream",
     "text": [
      "참가자 수 :  1\n",
      ">> Wait\n",
      ">> Connected by 127.0.0.1:57300\n"
     ]
    }
   ],
   "source": [
    "try:\n",
    "    while True:\n",
    "        print('>> Wait')\n",
    "\n",
    "        client_socket, addr = server_socket.accept()\n",
    "        client_sockets.append(client_sockets)\n",
    "        start_new_thread(treaded, (client_sockets, addr))\n",
    "        print(\"참가자 수 : \", len(client_sockets))\n",
    "\n",
    "except Exception as e:\n",
    "    print('>> ERROR : ', e )\n",
    "\n",
    "finally:\n",
    "    server_socket.close()"
   ]
  }
 ],
 "metadata": {
  "kernelspec": {
   "display_name": "Python 3.10.4 64-bit",
   "language": "python",
   "name": "python3"
  },
  "language_info": {
   "codemirror_mode": {
    "name": "ipython",
    "version": 3
   },
   "file_extension": ".py",
   "mimetype": "text/x-python",
   "name": "python",
   "nbconvert_exporter": "python",
   "pygments_lexer": "ipython3",
   "version": "3.10.4"
  },
  "orig_nbformat": 4,
  "vscode": {
   "interpreter": {
    "hash": "fb4569285eef3a3450cb62085a5b1e0da4bce0af555edc33dcf29baf3acc1368"
   }
  }
 },
 "nbformat": 4,
 "nbformat_minor": 2
}
